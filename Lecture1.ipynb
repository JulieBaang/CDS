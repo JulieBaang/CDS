{
 "cells": [
  {
   "cell_type": "markdown",
   "id": "37f7672d-e95b-4fee-b866-55e4c4cde6a4",
   "metadata": {},
   "source": [
    "# Header 1\n",
    "## Header 2\n",
    "### Header 3\n",
    "Text  \n",
    "_italics_  \n",
    "**bold**\n",
    "\n",
    "- item 1\n",
    "- item 2\n",
    "- item 3"
   ]
  },
  {
   "cell_type": "code",
   "execution_count": 8,
   "id": "30286ca6-7f3d-4aee-b3b3-d1fdc99349ed",
   "metadata": {},
   "outputs": [
    {
     "name": "stdout",
     "output_type": "stream",
     "text": [
      "Hello World\n"
     ]
    }
   ],
   "source": [
    "print(\"Hello World\")"
   ]
  },
  {
   "cell_type": "markdown",
   "id": "a9b6ed61-12f6-44c4-8919-56b2ccd59825",
   "metadata": {},
   "source": [
    "## Variables"
   ]
  },
  {
   "cell_type": "code",
   "execution_count": 25,
   "id": "822ed92a-615a-4595-9901-525dfad09300",
   "metadata": {},
   "outputs": [],
   "source": [
    "a = 'duck' #string\n",
    "b = 2 #integer\n",
    "c = 2.0 #float\n",
    "d = 'walk' #string"
   ]
  },
  {
   "cell_type": "code",
   "execution_count": 22,
   "id": "8bbfa169-f6ab-4cb7-9ed9-d68562d44b2d",
   "metadata": {},
   "outputs": [
    {
     "data": {
      "text/plain": [
       "True"
      ]
     },
     "execution_count": 22,
     "metadata": {},
     "output_type": "execute_result"
    }
   ],
   "source": [
    "b==c"
   ]
  },
  {
   "cell_type": "code",
   "execution_count": null,
   "id": "b4772689-629c-4652-93bb-497ac25ebe04",
   "metadata": {},
   "outputs": [],
   "source": []
  }
 ],
 "metadata": {
  "kernelspec": {
   "display_name": "Python 3 ",
   "language": "python",
   "name": "python3"
  },
  "language_info": {
   "codemirror_mode": {
    "name": "ipython",
    "version": 3
   },
   "file_extension": ".py",
   "mimetype": "text/x-python",
   "name": "python",
   "nbconvert_exporter": "python",
   "pygments_lexer": "ipython3",
   "version": "3.10.14"
  }
 },
 "nbformat": 4,
 "nbformat_minor": 5
}
