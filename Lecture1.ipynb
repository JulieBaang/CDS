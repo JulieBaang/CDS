{
 "cells": [
  {
   "cell_type": "markdown",
   "id": "37f7672d-e95b-4fee-b866-55e4c4cde6a4",
   "metadata": {},
   "source": [
    "# Header 1\n",
    "## Header 2\n",
    "### Header 3\n",
    "Text  \n",
    "_italics_  \n",
    "**bold**\n",
    "\n",
    "- item 1\n",
    "- item 2\n",
    "- item 3"
   ]
  },
  {
   "cell_type": "code",
   "execution_count": 8,
   "id": "30286ca6-7f3d-4aee-b3b3-d1fdc99349ed",
   "metadata": {},
   "outputs": [
    {
     "name": "stdout",
     "output_type": "stream",
     "text": [
      "Hello World\n"
     ]
    }
   ],
   "source": [
    "print(\"Hello World\")"
   ]
  },
  {
   "cell_type": "markdown",
   "id": "a9b6ed61-12f6-44c4-8919-56b2ccd59825",
   "metadata": {},
   "source": [
    "## Variables"
   ]
  },
  {
   "cell_type": "code",
   "execution_count": 25,
   "id": "822ed92a-615a-4595-9901-525dfad09300",
   "metadata": {},
   "outputs": [],
   "source": [
    "a = 'duck' #string\n",
    "b = 2 #integer\n",
    "c = 2.0 #float\n",
    "d = 'walk' #string"
   ]
  },
  {
   "cell_type": "code",
   "execution_count": 22,
   "id": "8bbfa169-f6ab-4cb7-9ed9-d68562d44b2d",
   "metadata": {},
   "outputs": [
    {
     "data": {
      "text/plain": [
       "True"
      ]
     },
     "execution_count": 22,
     "metadata": {},
     "output_type": "execute_result"
    }
   ],
   "source": [
    "b==c"
   ]
  },
  {
   "cell_type": "markdown",
   "id": "b2ef0511-cf35-445f-89e1-0da4c644e836",
   "metadata": {},
   "source": [
    "## LSP Chapter 4"
   ]
  },
  {
   "cell_type": "code",
   "execution_count": 4,
   "id": "c8e7b192-7c0f-4307-9c7b-63fbd44fb49f",
   "metadata": {},
   "outputs": [
    {
     "data": {
      "text/plain": [
       "3.5"
      ]
     },
     "execution_count": 4,
     "metadata": {},
     "output_type": "execute_result"
    }
   ],
   "source": [
    "from statistics import mean\n",
    "\n",
    "numbers = [2, 3, 4, 5]\n",
    "\n",
    "mean(numbers)"
   ]
  },
  {
   "cell_type": "code",
   "execution_count": 27,
   "id": "a121173c-2b83-44f4-987d-e6853276c26f",
   "metadata": {},
   "outputs": [
    {
     "data": {
      "text/plain": [
       "['Data.csv', '.ipynb_checkpoints', 'README.md', '.git', 'Lecture1.ipynb']"
      ]
     },
     "execution_count": 27,
     "metadata": {},
     "output_type": "execute_result"
    }
   ],
   "source": [
    "import os\n",
    "path = \"/work/CulturalDataScience/CDS/\" #Saving desired wd as variable\n",
    "os.chdir(path) #changing wd\n",
    "os.getcwd() #checking if it worked\n",
    "os.listdir() #printing wd contents"
   ]
  },
  {
   "cell_type": "code",
   "execution_count": 32,
   "id": "caaac9ba-f49b-43d5-be75-27a3d456d76b",
   "metadata": {},
   "outputs": [
    {
     "data": {
      "text/plain": [
       "pandas.core.frame.DataFrame"
      ]
     },
     "execution_count": 32,
     "metadata": {},
     "output_type": "execute_result"
    }
   ],
   "source": [
    "import pandas as pd\n",
    "\n",
    "file = \"Data.csv\"\n",
    "\n",
    "df = pd.read_csv(file) #loading csv\n",
    "\n",
    "type(df)"
   ]
  },
  {
   "cell_type": "code",
   "execution_count": 30,
   "id": "b37a7066-2752-415f-b20a-4b5ed4205dec",
   "metadata": {},
   "outputs": [
    {
     "name": "stdout",
     "output_type": "stream",
     "text": [
      "         Date      Time Loc     Name\n",
      "0  01-01-2024  01:01:01   a     Anna\n",
      "1  02-01-2024  02:02:02   b    Brian\n",
      "2  03-01-2024  03:03:03   c  Camilla\n",
      "3  04-01-2024  04:04:04   d   Dennis\n"
     ]
    }
   ],
   "source": [
    "print(df)"
   ]
  },
  {
   "cell_type": "code",
   "execution_count": 33,
   "id": "12f99cd2-552c-4fd6-b732-af3ee792ec6c",
   "metadata": {},
   "outputs": [],
   "source": [
    "df.to_csv(\"Updated_data.csv\") #saving as csv"
   ]
  },
  {
   "cell_type": "code",
   "execution_count": 34,
   "id": "99ccf01b-e6c7-4497-b213-eddb2c535ef8",
   "metadata": {},
   "outputs": [],
   "source": [
    "#  +---+---+---+---+---+---+\n",
    "# | P | y | t | h | o | n |\n",
    "#  +---+---+---+---+---+---+\n",
    "#  0   1   2   3   4   5   6\n",
    "# -6  -5  -4  -3  -2  -1"
   ]
  }
 ],
 "metadata": {
  "kernelspec": {
   "display_name": "Python 3 ",
   "language": "python",
   "name": "python3"
  },
  "language_info": {
   "codemirror_mode": {
    "name": "ipython",
    "version": 3
   },
   "file_extension": ".py",
   "mimetype": "text/x-python",
   "name": "python",
   "nbconvert_exporter": "python",
   "pygments_lexer": "ipython3",
   "version": "3.10.14"
  }
 },
 "nbformat": 4,
 "nbformat_minor": 5
}
